{
  "cells": [
    {
      "cell_type": "markdown",
      "metadata": {
        "id": "view-in-github",
        "colab_type": "text"
      },
      "source": [
        "<a href=\"https://colab.research.google.com/github/Ganesh7134/Guvi_final_project/blob/main/Twitter_sentiment_project.ipynb\" target=\"_parent\"><img src=\"https://colab.research.google.com/assets/colab-badge.svg\" alt=\"Open In Colab\"/></a>"
      ]
    },
    {
      "cell_type": "code",
      "execution_count": null,
      "id": "4bb5efb0",
      "metadata": {
        "id": "4bb5efb0",
        "outputId": "3c5afaa3-e20c-498a-e45c-c5365bf6e7a5"
      },
      "outputs": [
        {
          "data": {
            "text/html": [
              "<div>\n",
              "<style scoped>\n",
              "    .dataframe tbody tr th:only-of-type {\n",
              "        vertical-align: middle;\n",
              "    }\n",
              "\n",
              "    .dataframe tbody tr th {\n",
              "        vertical-align: top;\n",
              "    }\n",
              "\n",
              "    .dataframe thead th {\n",
              "        text-align: right;\n",
              "    }\n",
              "</style>\n",
              "<table border=\"1\" class=\"dataframe\">\n",
              "  <thead>\n",
              "    <tr style=\"text-align: right;\">\n",
              "      <th></th>\n",
              "      <th>target</th>\n",
              "      <th>id</th>\n",
              "      <th>date</th>\n",
              "      <th>flag</th>\n",
              "      <th>user</th>\n",
              "      <th>text</th>\n",
              "    </tr>\n",
              "  </thead>\n",
              "  <tbody>\n",
              "    <tr>\n",
              "      <th>0</th>\n",
              "      <td>0</td>\n",
              "      <td>1467810369</td>\n",
              "      <td>Mon Apr 06 22:19:45 PDT 2009</td>\n",
              "      <td>NO_QUERY</td>\n",
              "      <td>_TheSpecialOne_</td>\n",
              "      <td>@switchfoot http://twitpic.com/2y1zl - Awww, t...</td>\n",
              "    </tr>\n",
              "    <tr>\n",
              "      <th>1</th>\n",
              "      <td>0</td>\n",
              "      <td>1467810672</td>\n",
              "      <td>Mon Apr 06 22:19:49 PDT 2009</td>\n",
              "      <td>NO_QUERY</td>\n",
              "      <td>scotthamilton</td>\n",
              "      <td>is upset that he can't update his Facebook by ...</td>\n",
              "    </tr>\n",
              "    <tr>\n",
              "      <th>2</th>\n",
              "      <td>0</td>\n",
              "      <td>1467810917</td>\n",
              "      <td>Mon Apr 06 22:19:53 PDT 2009</td>\n",
              "      <td>NO_QUERY</td>\n",
              "      <td>mattycus</td>\n",
              "      <td>@Kenichan I dived many times for the ball. Man...</td>\n",
              "    </tr>\n",
              "    <tr>\n",
              "      <th>3</th>\n",
              "      <td>0</td>\n",
              "      <td>1467811184</td>\n",
              "      <td>Mon Apr 06 22:19:57 PDT 2009</td>\n",
              "      <td>NO_QUERY</td>\n",
              "      <td>ElleCTF</td>\n",
              "      <td>my whole body feels itchy and like its on fire</td>\n",
              "    </tr>\n",
              "    <tr>\n",
              "      <th>4</th>\n",
              "      <td>0</td>\n",
              "      <td>1467811193</td>\n",
              "      <td>Mon Apr 06 22:19:57 PDT 2009</td>\n",
              "      <td>NO_QUERY</td>\n",
              "      <td>Karoli</td>\n",
              "      <td>@nationwideclass no, it's not behaving at all....</td>\n",
              "    </tr>\n",
              "  </tbody>\n",
              "</table>\n",
              "</div>"
            ],
            "text/plain": [
              "   target          id                          date      flag  \\\n",
              "0       0  1467810369  Mon Apr 06 22:19:45 PDT 2009  NO_QUERY   \n",
              "1       0  1467810672  Mon Apr 06 22:19:49 PDT 2009  NO_QUERY   \n",
              "2       0  1467810917  Mon Apr 06 22:19:53 PDT 2009  NO_QUERY   \n",
              "3       0  1467811184  Mon Apr 06 22:19:57 PDT 2009  NO_QUERY   \n",
              "4       0  1467811193  Mon Apr 06 22:19:57 PDT 2009  NO_QUERY   \n",
              "\n",
              "              user                                               text  \n",
              "0  _TheSpecialOne_  @switchfoot http://twitpic.com/2y1zl - Awww, t...  \n",
              "1    scotthamilton  is upset that he can't update his Facebook by ...  \n",
              "2         mattycus  @Kenichan I dived many times for the ball. Man...  \n",
              "3          ElleCTF    my whole body feels itchy and like its on fire   \n",
              "4           Karoli  @nationwideclass no, it's not behaving at all....  "
            ]
          },
          "execution_count": 4,
          "metadata": {},
          "output_type": "execute_result"
        }
      ],
      "source": [
        "import pandas as pd\n",
        "columns = [\"target\",\"id\",\"date\",\"flag\",\"user\",\"text\"]\n",
        "df = pd.read_csv(r\"C:\\Users\\GANESH\\streamlit\\twitter.csv\",names = columns,encoding = \"latin-1\")\n",
        "df.head() # names attrbute helps to give heading without effecting the rows"
      ]
    },
    {
      "cell_type": "code",
      "execution_count": null,
      "id": "d75d7a04",
      "metadata": {
        "id": "d75d7a04",
        "outputId": "2c4189bc-1740-4a3b-e0b5-5b69f9bb45e5"
      },
      "outputs": [
        {
          "data": {
            "text/plain": [
              "Index(['target', 'id', 'date', 'flag', 'user', 'text'], dtype='object')"
            ]
          },
          "execution_count": 5,
          "metadata": {},
          "output_type": "execute_result"
        }
      ],
      "source": [
        "df.columns"
      ]
    },
    {
      "cell_type": "code",
      "execution_count": null,
      "id": "eaf99573",
      "metadata": {
        "id": "eaf99573",
        "outputId": "2440a795-3c3f-476f-f3b6-22d90661be6f"
      },
      "outputs": [
        {
          "data": {
            "text/html": [
              "<div>\n",
              "<style scoped>\n",
              "    .dataframe tbody tr th:only-of-type {\n",
              "        vertical-align: middle;\n",
              "    }\n",
              "\n",
              "    .dataframe tbody tr th {\n",
              "        vertical-align: top;\n",
              "    }\n",
              "\n",
              "    .dataframe thead th {\n",
              "        text-align: right;\n",
              "    }\n",
              "</style>\n",
              "<table border=\"1\" class=\"dataframe\">\n",
              "  <thead>\n",
              "    <tr style=\"text-align: right;\">\n",
              "      <th></th>\n",
              "      <th>target</th>\n",
              "      <th>id</th>\n",
              "      <th>date</th>\n",
              "      <th>flag</th>\n",
              "      <th>user</th>\n",
              "      <th>text</th>\n",
              "    </tr>\n",
              "  </thead>\n",
              "  <tbody>\n",
              "    <tr>\n",
              "      <th>0</th>\n",
              "      <td>0</td>\n",
              "      <td>1467810369</td>\n",
              "      <td>Mon Apr 06 22:19:45 PDT 2009</td>\n",
              "      <td>NO_QUERY</td>\n",
              "      <td>_TheSpecialOne_</td>\n",
              "      <td>@switchfoot http://twitpic.com/2y1zl - Awww, t...</td>\n",
              "    </tr>\n",
              "    <tr>\n",
              "      <th>1</th>\n",
              "      <td>0</td>\n",
              "      <td>1467810672</td>\n",
              "      <td>Mon Apr 06 22:19:49 PDT 2009</td>\n",
              "      <td>NO_QUERY</td>\n",
              "      <td>scotthamilton</td>\n",
              "      <td>is upset that he can't update his Facebook by ...</td>\n",
              "    </tr>\n",
              "    <tr>\n",
              "      <th>2</th>\n",
              "      <td>0</td>\n",
              "      <td>1467810917</td>\n",
              "      <td>Mon Apr 06 22:19:53 PDT 2009</td>\n",
              "      <td>NO_QUERY</td>\n",
              "      <td>mattycus</td>\n",
              "      <td>@Kenichan I dived many times for the ball. Man...</td>\n",
              "    </tr>\n",
              "    <tr>\n",
              "      <th>3</th>\n",
              "      <td>0</td>\n",
              "      <td>1467811184</td>\n",
              "      <td>Mon Apr 06 22:19:57 PDT 2009</td>\n",
              "      <td>NO_QUERY</td>\n",
              "      <td>ElleCTF</td>\n",
              "      <td>my whole body feels itchy and like its on fire</td>\n",
              "    </tr>\n",
              "    <tr>\n",
              "      <th>4</th>\n",
              "      <td>0</td>\n",
              "      <td>1467811193</td>\n",
              "      <td>Mon Apr 06 22:19:57 PDT 2009</td>\n",
              "      <td>NO_QUERY</td>\n",
              "      <td>Karoli</td>\n",
              "      <td>@nationwideclass no, it's not behaving at all....</td>\n",
              "    </tr>\n",
              "  </tbody>\n",
              "</table>\n",
              "</div>"
            ],
            "text/plain": [
              "   target          id                          date      flag  \\\n",
              "0       0  1467810369  Mon Apr 06 22:19:45 PDT 2009  NO_QUERY   \n",
              "1       0  1467810672  Mon Apr 06 22:19:49 PDT 2009  NO_QUERY   \n",
              "2       0  1467810917  Mon Apr 06 22:19:53 PDT 2009  NO_QUERY   \n",
              "3       0  1467811184  Mon Apr 06 22:19:57 PDT 2009  NO_QUERY   \n",
              "4       0  1467811193  Mon Apr 06 22:19:57 PDT 2009  NO_QUERY   \n",
              "\n",
              "              user                                               text  \n",
              "0  _TheSpecialOne_  @switchfoot http://twitpic.com/2y1zl - Awww, t...  \n",
              "1    scotthamilton  is upset that he can't update his Facebook by ...  \n",
              "2         mattycus  @Kenichan I dived many times for the ball. Man...  \n",
              "3          ElleCTF    my whole body feels itchy and like its on fire   \n",
              "4           Karoli  @nationwideclass no, it's not behaving at all....  "
            ]
          },
          "execution_count": 6,
          "metadata": {},
          "output_type": "execute_result"
        }
      ],
      "source": [
        "df.head()"
      ]
    },
    {
      "cell_type": "code",
      "execution_count": null,
      "id": "28dfdfd9",
      "metadata": {
        "id": "28dfdfd9",
        "outputId": "647004d4-e793-40ea-8e9f-631fedbf5932"
      },
      "outputs": [
        {
          "data": {
            "text/plain": [
              "0          @switchfoot http://twitpic.com/2y1zl - Awww, t...\n",
              "1          is upset that he can't update his Facebook by ...\n",
              "2          @Kenichan I dived many times for the ball. Man...\n",
              "3            my whole body feels itchy and like its on fire \n",
              "4          @nationwideclass no, it's not behaving at all....\n",
              "                                 ...                        \n",
              "1599995    Just woke up. Having no school is the best fee...\n",
              "1599996    TheWDB.com - Very cool to hear old Walt interv...\n",
              "1599997    Are you ready for your MoJo Makeover? Ask me f...\n",
              "1599998    Happy 38th Birthday to my boo of alll time!!! ...\n",
              "1599999    happy #charitytuesday @theNSPCC @SparksCharity...\n",
              "Name: text, Length: 1600000, dtype: object"
            ]
          },
          "execution_count": 7,
          "metadata": {},
          "output_type": "execute_result"
        }
      ],
      "source": [
        "df[\"text\"]"
      ]
    },
    {
      "cell_type": "code",
      "execution_count": null,
      "id": "a4fc91f8",
      "metadata": {
        "id": "a4fc91f8",
        "outputId": "b22be663-9d80-44c0-d141-01d0613c228b"
      },
      "outputs": [
        {
          "data": {
            "text/plain": [
              "0          115\n",
              "1          111\n",
              "2           89\n",
              "3           47\n",
              "4          111\n",
              "          ... \n",
              "1599995     56\n",
              "1599996     78\n",
              "1599997     57\n",
              "1599998     65\n",
              "1599999     62\n",
              "Name: text, Length: 1600000, dtype: int64"
            ]
          },
          "execution_count": 8,
          "metadata": {},
          "output_type": "execute_result"
        }
      ],
      "source": [
        "df[\"text\"].apply(lambda x:len(x)) # to check each tweet length"
      ]
    },
    {
      "cell_type": "code",
      "execution_count": null,
      "id": "28a6f87b",
      "metadata": {
        "id": "28a6f87b",
        "outputId": "3a371bb4-ac5d-47a2-c4be-f9269b7637eb"
      },
      "outputs": [
        {
          "data": {
            "text/plain": [
              "target    0\n",
              "id        0\n",
              "date      0\n",
              "flag      0\n",
              "user      0\n",
              "text      0\n",
              "dtype: int64"
            ]
          },
          "execution_count": 9,
          "metadata": {},
          "output_type": "execute_result"
        }
      ],
      "source": [
        "df.isnull().sum() # No null values"
      ]
    },
    {
      "cell_type": "code",
      "execution_count": null,
      "id": "d5a05dc1",
      "metadata": {
        "id": "d5a05dc1",
        "outputId": "f283fed3-a765-4fab-d488-0c2936651692"
      },
      "outputs": [
        {
          "data": {
            "text/plain": [
              "0    800000\n",
              "4    800000\n",
              "Name: target, dtype: int64"
            ]
          },
          "execution_count": 10,
          "metadata": {},
          "output_type": "execute_result"
        }
      ],
      "source": [
        "df[\"target\"].value_counts()"
      ]
    },
    {
      "cell_type": "code",
      "execution_count": null,
      "id": "4622ae21",
      "metadata": {
        "id": "4622ae21",
        "outputId": "acd08307-79e2-4974-be81-cc8dfce73f66"
      },
      "outputs": [
        {
          "data": {
            "text/plain": [
              "target     int64\n",
              "id         int64\n",
              "date      object\n",
              "flag      object\n",
              "user      object\n",
              "text      object\n",
              "dtype: object"
            ]
          },
          "execution_count": 11,
          "metadata": {},
          "output_type": "execute_result"
        }
      ],
      "source": [
        "df.dtypes"
      ]
    },
    {
      "cell_type": "code",
      "execution_count": null,
      "id": "dd2278a3",
      "metadata": {
        "id": "dd2278a3",
        "outputId": "1de8fdb2-edc5-45ae-8628-098148cdc405"
      },
      "outputs": [
        {
          "data": {
            "text/plain": [
              "array([0, 4], dtype=int64)"
            ]
          },
          "execution_count": 12,
          "metadata": {},
          "output_type": "execute_result"
        }
      ],
      "source": [
        "df[\"target\"].unique() # 4 is positive and 0 is negative"
      ]
    },
    {
      "cell_type": "code",
      "execution_count": null,
      "id": "b8631975",
      "metadata": {
        "id": "b8631975",
        "outputId": "65f3c90d-294f-4524-e995-c92943ac3723"
      },
      "outputs": [
        {
          "data": {
            "text/plain": [
              "0          0\n",
              "1          0\n",
              "2          0\n",
              "3          0\n",
              "4          0\n",
              "          ..\n",
              "1599995    4\n",
              "1599996    4\n",
              "1599997    4\n",
              "1599998    4\n",
              "1599999    4\n",
              "Name: target, Length: 1600000, dtype: int32"
            ]
          },
          "execution_count": 13,
          "metadata": {},
          "output_type": "execute_result"
        }
      ],
      "source": [
        "df[\"target\"].astype(\"int\") # converting float into int"
      ]
    },
    {
      "cell_type": "markdown",
      "id": "0fad662d",
      "metadata": {
        "id": "0fad662d"
      },
      "source": [
        "* 1 ----> **means positive Tweet**\n",
        "* 0 ----> **means negative Tweet**"
      ]
    },
    {
      "cell_type": "code",
      "execution_count": null,
      "id": "40fc1972",
      "metadata": {
        "id": "40fc1972"
      },
      "outputs": [],
      "source": [
        "df[\"target\"] = df[\"target\"].map({4:1,0:0}) # converting 4 to 1 for better analysis"
      ]
    },
    {
      "cell_type": "code",
      "execution_count": null,
      "id": "1f9f8095",
      "metadata": {
        "id": "1f9f8095",
        "outputId": "e9ac96ba-32f9-4629-f822-f2600e17aa99"
      },
      "outputs": [
        {
          "data": {
            "text/plain": [
              "<AxesSubplot:ylabel='target'>"
            ]
          },
          "execution_count": 15,
          "metadata": {},
          "output_type": "execute_result"
        },
        {
          "data": {
            "image/png": "[encoded data removed]",
            "text/plain": [
              "<Figure size 432x288 with 1 Axes>"
            ]
          },
          "metadata": {},
          "output_type": "display_data"
        }
      ],
      "source": [
        "df[\"target\"].value_counts().plot(kind=\"pie\")"
      ]
    },
    {
      "cell_type": "code",
      "execution_count": null,
      "id": "8bd33c78",
      "metadata": {
        "id": "8bd33c78",
        "outputId": "902c6db5-b078-4adb-e0a5-078fb61feb4b"
      },
      "outputs": [
        {
          "data": {
            "text/plain": [
              "target    0\n",
              "id        0\n",
              "date      0\n",
              "flag      0\n",
              "user      0\n",
              "text      0\n",
              "dtype: int64"
            ]
          },
          "execution_count": 16,
          "metadata": {},
          "output_type": "execute_result"
        }
      ],
      "source": [
        "df.isna().sum()"
      ]
    },
    {
      "cell_type": "code",
      "execution_count": null,
      "id": "1b223a78",
      "metadata": {
        "id": "1b223a78"
      },
      "outputs": [],
      "source": [
        "import pandas as pd\n",
        "import numpy as np\n",
        "import re\n",
        "from nltk.corpus import stopwords\n",
        "from nltk.stem import WordNetLemmatizer\n",
        "from nltk.tokenize import word_tokenize\n",
        "from sklearn.feature_extraction.text import TfidfVectorizer"
      ]
    },
    {
      "cell_type": "code",
      "execution_count": null,
      "id": "29c69596",
      "metadata": {
        "id": "29c69596",
        "outputId": "2e961328-d8ff-40a8-d88c-48a07c3de02a"
      },
      "outputs": [
        {
          "name": "stderr",
          "output_type": "stream",
          "text": [
            "[nltk_data] Downloading package stopwords to\n",
            "[nltk_data]     C:\\Users\\GANESH\\AppData\\Roaming\\nltk_data...\n",
            "[nltk_data]   Package stopwords is already up-to-date!\n"
          ]
        },
        {
          "data": {
            "text/plain": [
              "True"
            ]
          },
          "execution_count": 18,
          "metadata": {},
          "output_type": "execute_result"
        }
      ],
      "source": [
        "import nltk\n",
        "nltk.download(\"stopwords\")"
      ]
    },
    {
      "cell_type": "code",
      "execution_count": null,
      "id": "2ea0b46b",
      "metadata": {
        "id": "2ea0b46b"
      },
      "outputs": [],
      "source": [
        "sw = stopwords.words(\"english\")"
      ]
    },
    {
      "cell_type": "markdown",
      "id": "41a163a0",
      "metadata": {
        "id": "41a163a0"
      },
      "source": [
        "## **Lemmatizing**\n",
        "\n",
        "> *to get the meaningful dictionary words from the tweet text*\n",
        "\n",
        "> **Example**: running ----> run when we are giving pos as V"
      ]
    },
    {
      "cell_type": "markdown",
      "id": "45a5eb91",
      "metadata": {
        "id": "45a5eb91"
      },
      "source": [
        "## **Preprocessing the text**"
      ]
    },
    {
      "cell_type": "code",
      "execution_count": null,
      "id": "5dd3c560",
      "metadata": {
        "id": "5dd3c560"
      },
      "outputs": [],
      "source": [
        "import nltk\n",
        "def preprocessing(text):\n",
        "    pattern = r\"https?://[^\\s]+|[^a-zA-Z]\"  # Match URLs and non-alphabetic characters\n",
        "    clean_text = re.sub(pattern, \" \", text)\n",
        "    lower_text = clean_text.lower()\n",
        "    word_tokenize = nltk.word_tokenize(lower_text)\n",
        "    stop_words = set(sw)  # Get English stop words\n",
        "    filtered_tokens = [word for word in word_tokenize if word not in stop_words]  # Filter stop words\n",
        "    preprocessed_sent = \" \".join(filtered_tokens)\n",
        "\n",
        "    return preprocessed_sent\n",
        ""
      ]
    },
    {
      "cell_type": "code",
      "execution_count": null,
      "id": "a6b7fb81",
      "metadata": {
        "id": "a6b7fb81"
      },
      "outputs": [],
      "source": [
        "df[\"preprocessed_text\"] = df[\"text\"].apply(preprocessing)"
      ]
    },
    {
      "cell_type": "code",
      "execution_count": null,
      "id": "d135e5e4",
      "metadata": {
        "id": "d135e5e4",
        "outputId": "9b5a2be7-43d9-47ca-ba0d-433464f7497e"
      },
      "outputs": [
        {
          "data": {
            "text/html": [
              "<div>\n",
              "<style scoped>\n",
              "    .dataframe tbody tr th:only-of-type {\n",
              "        vertical-align: middle;\n",
              "    }\n",
              "\n",
              "    .dataframe tbody tr th {\n",
              "        vertical-align: top;\n",
              "    }\n",
              "\n",
              "    .dataframe thead th {\n",
              "        text-align: right;\n",
              "    }\n",
              "</style>\n",
              "<table border=\"1\" class=\"dataframe\">\n",
              "  <thead>\n",
              "    <tr style=\"text-align: right;\">\n",
              "      <th></th>\n",
              "      <th>target</th>\n",
              "      <th>id</th>\n",
              "      <th>date</th>\n",
              "      <th>flag</th>\n",
              "      <th>user</th>\n",
              "      <th>text</th>\n",
              "      <th>preprocessed_text</th>\n",
              "    </tr>\n",
              "  </thead>\n",
              "  <tbody>\n",
              "    <tr>\n",
              "      <th>0</th>\n",
              "      <td>0</td>\n",
              "      <td>1467810369</td>\n",
              "      <td>Mon Apr 06 22:19:45 PDT 2009</td>\n",
              "      <td>NO_QUERY</td>\n",
              "      <td>_TheSpecialOne_</td>\n",
              "      <td>@switchfoot http://twitpic.com/2y1zl - Awww, t...</td>\n",
              "      <td>switchfoot awww bummer shoulda got david carr ...</td>\n",
              "    </tr>\n",
              "    <tr>\n",
              "      <th>1</th>\n",
              "      <td>0</td>\n",
              "      <td>1467810672</td>\n",
              "      <td>Mon Apr 06 22:19:49 PDT 2009</td>\n",
              "      <td>NO_QUERY</td>\n",
              "      <td>scotthamilton</td>\n",
              "      <td>is upset that he can't update his Facebook by ...</td>\n",
              "      <td>upset update facebook texting might cry result...</td>\n",
              "    </tr>\n",
              "    <tr>\n",
              "      <th>2</th>\n",
              "      <td>0</td>\n",
              "      <td>1467810917</td>\n",
              "      <td>Mon Apr 06 22:19:53 PDT 2009</td>\n",
              "      <td>NO_QUERY</td>\n",
              "      <td>mattycus</td>\n",
              "      <td>@Kenichan I dived many times for the ball. Man...</td>\n",
              "      <td>kenichan dived many times ball managed save re...</td>\n",
              "    </tr>\n",
              "    <tr>\n",
              "      <th>3</th>\n",
              "      <td>0</td>\n",
              "      <td>1467811184</td>\n",
              "      <td>Mon Apr 06 22:19:57 PDT 2009</td>\n",
              "      <td>NO_QUERY</td>\n",
              "      <td>ElleCTF</td>\n",
              "      <td>my whole body feels itchy and like its on fire</td>\n",
              "      <td>whole body feels itchy like fire</td>\n",
              "    </tr>\n",
              "    <tr>\n",
              "      <th>4</th>\n",
              "      <td>0</td>\n",
              "      <td>1467811193</td>\n",
              "      <td>Mon Apr 06 22:19:57 PDT 2009</td>\n",
              "      <td>NO_QUERY</td>\n",
              "      <td>Karoli</td>\n",
              "      <td>@nationwideclass no, it's not behaving at all....</td>\n",
              "      <td>nationwideclass behaving mad see</td>\n",
              "    </tr>\n",
              "  </tbody>\n",
              "</table>\n",
              "</div>"
            ],
            "text/plain": [
              "   target          id                          date      flag  \\\n",
              "0       0  1467810369  Mon Apr 06 22:19:45 PDT 2009  NO_QUERY   \n",
              "1       0  1467810672  Mon Apr 06 22:19:49 PDT 2009  NO_QUERY   \n",
              "2       0  1467810917  Mon Apr 06 22:19:53 PDT 2009  NO_QUERY   \n",
              "3       0  1467811184  Mon Apr 06 22:19:57 PDT 2009  NO_QUERY   \n",
              "4       0  1467811193  Mon Apr 06 22:19:57 PDT 2009  NO_QUERY   \n",
              "\n",
              "              user                                               text  \\\n",
              "0  _TheSpecialOne_  @switchfoot http://twitpic.com/2y1zl - Awww, t...   \n",
              "1    scotthamilton  is upset that he can't update his Facebook by ...   \n",
              "2         mattycus  @Kenichan I dived many times for the ball. Man...   \n",
              "3          ElleCTF    my whole body feels itchy and like its on fire    \n",
              "4           Karoli  @nationwideclass no, it's not behaving at all....   \n",
              "\n",
              "                                   preprocessed_text  \n",
              "0  switchfoot awww bummer shoulda got david carr ...  \n",
              "1  upset update facebook texting might cry result...  \n",
              "2  kenichan dived many times ball managed save re...  \n",
              "3                   whole body feels itchy like fire  \n",
              "4                   nationwideclass behaving mad see  "
            ]
          },
          "execution_count": 22,
          "metadata": {},
          "output_type": "execute_result"
        }
      ],
      "source": [
        "df.head()"
      ]
    },
    {
      "cell_type": "code",
      "execution_count": null,
      "id": "ecca1909",
      "metadata": {
        "id": "ecca1909",
        "outputId": "107108f0-5d5d-4114-d1c2-4d5e25388b45"
      },
      "outputs": [
        {
          "name": "stderr",
          "output_type": "stream",
          "text": [
            "[nltk_data] Downloading package averaged_perceptron_tagger to\n",
            "[nltk_data]     C:\\Users\\GANESH\\AppData\\Roaming\\nltk_data...\n",
            "[nltk_data]   Package averaged_perceptron_tagger is already up-to-\n",
            "[nltk_data]       date!\n"
          ]
        },
        {
          "data": {
            "text/plain": [
              "True"
            ]
          },
          "execution_count": 23,
          "metadata": {},
          "output_type": "execute_result"
        }
      ],
      "source": [
        "nltk.download('averaged_perceptron_tagger')"
      ]
    },
    {
      "cell_type": "code",
      "execution_count": null,
      "id": "0c43e0ea",
      "metadata": {
        "id": "0c43e0ea",
        "outputId": "5b44cdf6-3534-42f1-a84b-e9585f34c7c1"
      },
      "outputs": [
        {
          "name": "stdout",
          "output_type": "stream",
          "text": [
            "<class 'str'>\n",
            "<class 'str'>\n",
            "<class 'str'>\n",
            "<class 'str'>\n",
            "<class 'str'>\n"
          ]
        }
      ],
      "source": [
        "for i in df[\"preprocessed_text\"][:5]:\n",
        "    print(type(i))"
      ]
    },
    {
      "cell_type": "code",
      "execution_count": null,
      "id": "af59ff14",
      "metadata": {
        "id": "af59ff14",
        "outputId": "af872842-e3a6-4325-cc6d-f5a6ae180604"
      },
      "outputs": [
        {
          "data": {
            "text/plain": [
              "'run'"
            ]
          },
          "execution_count": 25,
          "metadata": {},
          "output_type": "execute_result"
        }
      ],
      "source": [
        "Lz = WordNetLemmatizer()\n",
        "Lz.lemmatize(\"running\",pos=\"v\")"
      ]
    },
    {
      "cell_type": "code",
      "execution_count": null,
      "id": "5622b8b8",
      "metadata": {
        "id": "5622b8b8",
        "outputId": "c9d90a65-51b7-413e-aab0-7c621cc97ff4"
      },
      "outputs": [
        {
          "name": "stdout",
          "output_type": "stream",
          "text": [
            "Original text: The students are studying hard for the exams.\n",
            "Lemmatized text: the student be study hard for the exam .\n"
          ]
        }
      ],
      "source": [
        "from nltk import word_tokenize, pos_tag, WordNetLemmatizer\n",
        "\n",
        "# Preprocessing functions\n",
        "def tokenize(text):\n",
        "  return word_tokenize(text.lower())\n",
        "\n",
        "def tag_pos(tokens):\n",
        "  return pos_tag(tokens)\n",
        "\n",
        "# Conditional lemmatization based on POS\n",
        "def conditioned_lemmatize(tagged_tokens):\n",
        "  lemmatizer = WordNetLemmatizer()\n",
        "  lemmatized_tokens = []\n",
        "  for token, pos in tagged_tokens:\n",
        "    if pos.startswith(\"N\"):\n",
        "      lemmatized_tokens.append(lemmatizer.lemmatize(token, \"n\"))\n",
        "    elif pos.startswith(\"V\"):\n",
        "      lemmatized_tokens.append(lemmatizer.lemmatize(token, \"v\"))\n",
        "    else:\n",
        "      lemmatized_tokens.append(token)\n",
        "  return lemmatized_tokens\n",
        "\n",
        "# Example usage\n",
        "text = \"The students are studying hard for the exams.\"\n",
        "\n",
        "tokens = tokenize(text)\n",
        "tagged_tokens = tag_pos(tokens)\n",
        "lemmatized_tokens = conditioned_lemmatize(tagged_tokens)\n",
        "\n",
        "lemmatized_text = \" \".join(lemmatized_tokens)\n",
        "\n",
        "print(f\"Original text: {text}\")\n",
        "print(f\"Lemmatized text: {lemmatized_text}\")"
      ]
    },
    {
      "cell_type": "code",
      "execution_count": null,
      "id": "82fd40df",
      "metadata": {
        "id": "82fd40df",
        "outputId": "ccdcbc91-de05-4a8b-a542-5af48e9a4094"
      },
      "outputs": [
        {
          "data": {
            "text/plain": [
              "['the', 'students', 'are', 'studying', 'hard', 'for', 'the', 'exams', '.']"
            ]
          },
          "execution_count": 27,
          "metadata": {},
          "output_type": "execute_result"
        }
      ],
      "source": [
        "tokens"
      ]
    },
    {
      "cell_type": "code",
      "execution_count": null,
      "id": "f04d4cf0",
      "metadata": {
        "id": "f04d4cf0",
        "outputId": "41ef6759-1364-436f-f084-acf2ec40232c"
      },
      "outputs": [
        {
          "data": {
            "text/plain": [
              "[('the', 'DT'),\n",
              " ('students', 'NNS'),\n",
              " ('are', 'VBP'),\n",
              " ('studying', 'VBG'),\n",
              " ('hard', 'RB'),\n",
              " ('for', 'IN'),\n",
              " ('the', 'DT'),\n",
              " ('exams', 'NNS'),\n",
              " ('.', '.')]"
            ]
          },
          "execution_count": 28,
          "metadata": {},
          "output_type": "execute_result"
        }
      ],
      "source": [
        "tagged_tokens"
      ]
    },
    {
      "cell_type": "code",
      "execution_count": null,
      "id": "56b07de4",
      "metadata": {
        "id": "56b07de4",
        "outputId": "1d7c6dc0-f13a-4aa7-b868-37215b2f6f07"
      },
      "outputs": [
        {
          "data": {
            "text/plain": [
              "['the', 'student', 'be', 'study', 'hard', 'for', 'the', 'exam', '.']"
            ]
          },
          "execution_count": 29,
          "metadata": {},
          "output_type": "execute_result"
        }
      ],
      "source": [
        "lemmatized_tokens"
      ]
    },
    {
      "cell_type": "code",
      "execution_count": null,
      "id": "89f1df6f",
      "metadata": {
        "id": "89f1df6f"
      },
      "outputs": [],
      "source": [
        "Lemmatize_text = []\n",
        "for i in df[\"preprocessed_text\"]:\n",
        "    tokens = tokenize(i)\n",
        "    tagged_tokens = tag_pos(tokens)\n",
        "    lemmatized_tokens = conditioned_lemmatize(tagged_tokens)\n",
        "    lemmatized_text = \" \".join(lemmatized_tokens)\n",
        "    Lemmatize_text.append(lemmatized_text)"
      ]
    },
    {
      "cell_type": "code",
      "execution_count": null,
      "id": "fcf7c9e9",
      "metadata": {
        "id": "fcf7c9e9"
      },
      "outputs": [],
      "source": [
        "df[\"filtered_text\"] = Lemmatize_text"
      ]
    },
    {
      "cell_type": "code",
      "execution_count": null,
      "id": "ad4a1b5a",
      "metadata": {
        "id": "ad4a1b5a",
        "outputId": "b91aef02-f36c-42ef-9c6e-20bc5f929993"
      },
      "outputs": [
        {
          "name": "stderr",
          "output_type": "stream",
          "text": [
            "[nltk_data] Downloading package tagsets to\n",
            "[nltk_data]     C:\\Users\\GANESH\\AppData\\Roaming\\nltk_data...\n",
            "[nltk_data]   Package tagsets is already up-to-date!\n"
          ]
        },
        {
          "data": {
            "text/plain": [
              "True"
            ]
          },
          "execution_count": 32,
          "metadata": {},
          "output_type": "execute_result"
        }
      ],
      "source": [
        "nltk.download('tagsets')"
      ]
    },
    {
      "cell_type": "code",
      "execution_count": null,
      "id": "6f3dd8f6",
      "metadata": {
        "id": "6f3dd8f6",
        "outputId": "88433f2f-0fcb-49eb-9ddb-52365190bad8"
      },
      "outputs": [
        {
          "name": "stdout",
          "output_type": "stream",
          "text": [
            "$: dollar\n",
            "    $ -$ --$ A$ C$ HK$ M$ NZ$ S$ U.S.$ US$\n",
            "'': closing quotation mark\n",
            "    ' ''\n",
            "(: opening parenthesis\n",
            "    ( [ {\n",
            "): closing parenthesis\n",
            "    ) ] }\n",
            ",: comma\n",
            "    ,\n",
            "--: dash\n",
            "    --\n",
            ".: sentence terminator\n",
            "    . ! ?\n",
            ":: colon or ellipsis\n",
            "    : ; ...\n",
            "CC: conjunction, coordinating\n",
            "    & 'n and both but either et for less minus neither nor or plus so\n",
            "    therefore times v. versus vs. whether yet\n",
            "CD: numeral, cardinal\n",
            "    mid-1890 nine-thirty forty-two one-tenth ten million 0.5 one forty-\n",
            "    seven 1987 twenty '79 zero two 78-degrees eighty-four IX '60s .025\n",
            "    fifteen 271,124 dozen quintillion DM2,000 ...\n",
            "DT: determiner\n",
            "    all an another any both del each either every half la many much nary\n",
            "    neither no some such that the them these this those\n",
            "EX: existential there\n",
            "    there\n",
            "FW: foreign word\n",
            "    gemeinschaft hund ich jeux habeas Haementeria Herr K'ang-si vous\n",
            "    lutihaw alai je jour objets salutaris fille quibusdam pas trop Monte\n",
            "    terram fiche oui corporis ...\n",
            "IN: preposition or conjunction, subordinating\n",
            "    astride among uppon whether out inside pro despite on by throughout\n",
            "    below within for towards near behind atop around if like until below\n",
            "    next into if beside ...\n",
            "JJ: adjective or numeral, ordinal\n",
            "    third ill-mannered pre-war regrettable oiled calamitous first separable\n",
            "    ectoplasmic battery-powered participatory fourth still-to-be-named\n",
            "    multilingual multi-disciplinary ...\n",
            "JJR: adjective, comparative\n",
            "    bleaker braver breezier briefer brighter brisker broader bumper busier\n",
            "    calmer cheaper choosier cleaner clearer closer colder commoner costlier\n",
            "    cozier creamier crunchier cuter ...\n",
            "JJS: adjective, superlative\n",
            "    calmest cheapest choicest classiest cleanest clearest closest commonest\n",
            "    corniest costliest crassest creepiest crudest cutest darkest deadliest\n",
            "    dearest deepest densest dinkiest ...\n",
            "LS: list item marker\n",
            "    A A. B B. C C. D E F First G H I J K One SP-44001 SP-44002 SP-44005\n",
            "    SP-44007 Second Third Three Two * a b c d first five four one six three\n",
            "    two\n",
            "MD: modal auxiliary\n",
            "    can cannot could couldn't dare may might must need ought shall should\n",
            "    shouldn't will would\n",
            "NN: noun, common, singular or mass\n",
            "    common-carrier cabbage knuckle-duster Casino afghan shed thermostat\n",
            "    investment slide humour falloff slick wind hyena override subhumanity\n",
            "    machinist ...\n",
            "NNP: noun, proper, singular\n",
            "    Motown Venneboerger Czestochwa Ranzer Conchita Trumplane Christos\n",
            "    Oceanside Escobar Kreisler Sawyer Cougar Yvette Ervin ODI Darryl CTCA\n",
            "    Shannon A.K.C. Meltex Liverpool ...\n",
            "NNPS: noun, proper, plural\n",
            "    Americans Americas Amharas Amityvilles Amusements Anarcho-Syndicalists\n",
            "    Andalusians Andes Andruses Angels Animals Anthony Antilles Antiques\n",
            "    Apache Apaches Apocrypha ...\n",
            "NNS: noun, common, plural\n",
            "    undergraduates scotches bric-a-brac products bodyguards facets coasts\n",
            "    divestitures storehouses designs clubs fragrances averages\n",
            "    subjectivists apprehensions muses factory-jobs ...\n",
            "PDT: pre-determiner\n",
            "    all both half many quite such sure this\n",
            "POS: genitive marker\n",
            "    ' 's\n",
            "PRP: pronoun, personal\n",
            "    hers herself him himself hisself it itself me myself one oneself ours\n",
            "    ourselves ownself self she thee theirs them themselves they thou thy us\n",
            "PRP$: pronoun, possessive\n",
            "    her his mine my our ours their thy your\n",
            "RB: adverb\n",
            "    occasionally unabatingly maddeningly adventurously professedly\n",
            "    stirringly prominently technologically magisterially predominately\n",
            "    swiftly fiscally pitilessly ...\n",
            "RBR: adverb, comparative\n",
            "    further gloomier grander graver greater grimmer harder harsher\n",
            "    healthier heavier higher however larger later leaner lengthier less-\n",
            "    perfectly lesser lonelier longer louder lower more ...\n",
            "RBS: adverb, superlative\n",
            "    best biggest bluntest earliest farthest first furthest hardest\n",
            "    heartiest highest largest least less most nearest second tightest worst\n",
            "RP: particle\n",
            "    aboard about across along apart around aside at away back before behind\n",
            "    by crop down ever fast for forth from go high i.e. in into just later\n",
            "    low more off on open out over per pie raising start teeth that through\n",
            "    under unto up up-pp upon whole with you\n",
            "SYM: symbol\n",
            "    % & ' '' ''. ) ). * + ,. < = > @ A[fj] U.S U.S.S.R * ** ***\n",
            "TO: \"to\" as preposition or infinitive marker\n",
            "    to\n",
            "UH: interjection\n",
            "    Goodbye Goody Gosh Wow Jeepers Jee-sus Hubba Hey Kee-reist Oops amen\n",
            "    huh howdy uh dammit whammo shucks heck anyways whodunnit honey golly\n",
            "    man baby diddle hush sonuvabitch ...\n",
            "VB: verb, base form\n",
            "    ask assemble assess assign assume atone attention avoid bake balkanize\n",
            "    bank begin behold believe bend benefit bevel beware bless boil bomb\n",
            "    boost brace break bring broil brush build ...\n",
            "VBD: verb, past tense\n",
            "    dipped pleaded swiped regummed soaked tidied convened halted registered\n",
            "    cushioned exacted snubbed strode aimed adopted belied figgered\n",
            "    speculated wore appreciated contemplated ...\n",
            "VBG: verb, present participle or gerund\n",
            "    telegraphing stirring focusing angering judging stalling lactating\n",
            "    hankerin' alleging veering capping approaching traveling besieging\n",
            "    encrypting interrupting erasing wincing ...\n",
            "VBN: verb, past participle\n",
            "    multihulled dilapidated aerosolized chaired languished panelized used\n",
            "    experimented flourished imitated reunifed factored condensed sheared\n",
            "    unsettled primed dubbed desired ...\n",
            "VBP: verb, present tense, not 3rd person singular\n",
            "    predominate wrap resort sue twist spill cure lengthen brush terminate\n",
            "    appear tend stray glisten obtain comprise detest tease attract\n",
            "    emphasize mold postpone sever return wag ...\n",
            "VBZ: verb, present tense, 3rd person singular\n",
            "    bases reconstructs marks mixes displeases seals carps weaves snatches\n",
            "    slumps stretches authorizes smolders pictures emerges stockpiles\n",
            "    seduces fizzes uses bolsters slaps speaks pleads ...\n",
            "WDT: WH-determiner\n",
            "    that what whatever which whichever\n",
            "WP: WH-pronoun\n",
            "    that what whatever whatsoever which who whom whosoever\n",
            "WP$: WH-pronoun, possessive\n",
            "    whose\n",
            "WRB: Wh-adverb\n",
            "    how however whence whenever where whereby whereever wherein whereof why\n",
            "``: opening quotation mark\n",
            "    ` ``\n"
          ]
        }
      ],
      "source": [
        "import nltk\n",
        "nltk.help.upenn_tagset()"
      ]
    },
    {
      "cell_type": "code",
      "execution_count": null,
      "id": "49fd20d3",
      "metadata": {
        "id": "49fd20d3",
        "outputId": "e24ba831-61cb-4b82-874b-f33b341fe75a"
      },
      "outputs": [
        {
          "data": {
            "text/html": [
              "<div>\n",
              "<style scoped>\n",
              "    .dataframe tbody tr th:only-of-type {\n",
              "        vertical-align: middle;\n",
              "    }\n",
              "\n",
              "    .dataframe tbody tr th {\n",
              "        vertical-align: top;\n",
              "    }\n",
              "\n",
              "    .dataframe thead th {\n",
              "        text-align: right;\n",
              "    }\n",
              "</style>\n",
              "<table border=\"1\" class=\"dataframe\">\n",
              "  <thead>\n",
              "    <tr style=\"text-align: right;\">\n",
              "      <th></th>\n",
              "      <th>target</th>\n",
              "      <th>id</th>\n",
              "      <th>date</th>\n",
              "      <th>flag</th>\n",
              "      <th>user</th>\n",
              "      <th>text</th>\n",
              "      <th>preprocessed_text</th>\n",
              "      <th>filtered_text</th>\n",
              "    </tr>\n",
              "  </thead>\n",
              "  <tbody>\n",
              "    <tr>\n",
              "      <th>0</th>\n",
              "      <td>0</td>\n",
              "      <td>1467810369</td>\n",
              "      <td>Mon Apr 06 22:19:45 PDT 2009</td>\n",
              "      <td>NO_QUERY</td>\n",
              "      <td>_TheSpecialOne_</td>\n",
              "      <td>@switchfoot http://twitpic.com/2y1zl - Awww, t...</td>\n",
              "      <td>switchfoot awww bummer shoulda got david carr ...</td>\n",
              "      <td>switchfoot awww bummer shoulda get david carr ...</td>\n",
              "    </tr>\n",
              "    <tr>\n",
              "      <th>1</th>\n",
              "      <td>0</td>\n",
              "      <td>1467810672</td>\n",
              "      <td>Mon Apr 06 22:19:49 PDT 2009</td>\n",
              "      <td>NO_QUERY</td>\n",
              "      <td>scotthamilton</td>\n",
              "      <td>is upset that he can't update his Facebook by ...</td>\n",
              "      <td>upset update facebook texting might cry result...</td>\n",
              "      <td>upset update facebook texting might cry result...</td>\n",
              "    </tr>\n",
              "    <tr>\n",
              "      <th>2</th>\n",
              "      <td>0</td>\n",
              "      <td>1467810917</td>\n",
              "      <td>Mon Apr 06 22:19:53 PDT 2009</td>\n",
              "      <td>NO_QUERY</td>\n",
              "      <td>mattycus</td>\n",
              "      <td>@Kenichan I dived many times for the ball. Man...</td>\n",
              "      <td>kenichan dived many times ball managed save re...</td>\n",
              "      <td>kenichan dive many time ball manage save rest ...</td>\n",
              "    </tr>\n",
              "    <tr>\n",
              "      <th>3</th>\n",
              "      <td>0</td>\n",
              "      <td>1467811184</td>\n",
              "      <td>Mon Apr 06 22:19:57 PDT 2009</td>\n",
              "      <td>NO_QUERY</td>\n",
              "      <td>ElleCTF</td>\n",
              "      <td>my whole body feels itchy and like its on fire</td>\n",
              "      <td>whole body feels itchy like fire</td>\n",
              "      <td>whole body feel itchy like fire</td>\n",
              "    </tr>\n",
              "    <tr>\n",
              "      <th>4</th>\n",
              "      <td>0</td>\n",
              "      <td>1467811193</td>\n",
              "      <td>Mon Apr 06 22:19:57 PDT 2009</td>\n",
              "      <td>NO_QUERY</td>\n",
              "      <td>Karoli</td>\n",
              "      <td>@nationwideclass no, it's not behaving at all....</td>\n",
              "      <td>nationwideclass behaving mad see</td>\n",
              "      <td>nationwideclass behaving mad see</td>\n",
              "    </tr>\n",
              "  </tbody>\n",
              "</table>\n",
              "</div>"
            ],
            "text/plain": [
              "   target          id                          date      flag  \\\n",
              "0       0  1467810369  Mon Apr 06 22:19:45 PDT 2009  NO_QUERY   \n",
              "1       0  1467810672  Mon Apr 06 22:19:49 PDT 2009  NO_QUERY   \n",
              "2       0  1467810917  Mon Apr 06 22:19:53 PDT 2009  NO_QUERY   \n",
              "3       0  1467811184  Mon Apr 06 22:19:57 PDT 2009  NO_QUERY   \n",
              "4       0  1467811193  Mon Apr 06 22:19:57 PDT 2009  NO_QUERY   \n",
              "\n",
              "              user                                               text  \\\n",
              "0  _TheSpecialOne_  @switchfoot http://twitpic.com/2y1zl - Awww, t...   \n",
              "1    scotthamilton  is upset that he can't update his Facebook by ...   \n",
              "2         mattycus  @Kenichan I dived many times for the ball. Man...   \n",
              "3          ElleCTF    my whole body feels itchy and like its on fire    \n",
              "4           Karoli  @nationwideclass no, it's not behaving at all....   \n",
              "\n",
              "                                   preprocessed_text  \\\n",
              "0  switchfoot awww bummer shoulda got david carr ...   \n",
              "1  upset update facebook texting might cry result...   \n",
              "2  kenichan dived many times ball managed save re...   \n",
              "3                   whole body feels itchy like fire   \n",
              "4                   nationwideclass behaving mad see   \n",
              "\n",
              "                                       filtered_text  \n",
              "0  switchfoot awww bummer shoulda get david carr ...  \n",
              "1  upset update facebook texting might cry result...  \n",
              "2  kenichan dive many time ball manage save rest ...  \n",
              "3                    whole body feel itchy like fire  \n",
              "4                   nationwideclass behaving mad see  "
            ]
          },
          "execution_count": 34,
          "metadata": {},
          "output_type": "execute_result"
        }
      ],
      "source": [
        "df.head()"
      ]
    },
    {
      "cell_type": "code",
      "execution_count": null,
      "id": "0a84dd91",
      "metadata": {
        "id": "0a84dd91",
        "outputId": "fd993e49-4455-447c-dd6c-c66c59514feb"
      },
      "outputs": [
        {
          "data": {
            "text/plain": [
              "target               0\n",
              "id                   0\n",
              "date                 0\n",
              "flag                 0\n",
              "user                 0\n",
              "text                 0\n",
              "preprocessed_text    0\n",
              "filtered_text        0\n",
              "dtype: int64"
            ]
          },
          "execution_count": 35,
          "metadata": {},
          "output_type": "execute_result"
        }
      ],
      "source": [
        "df.isna().sum()"
      ]
    },
    {
      "cell_type": "code",
      "execution_count": null,
      "id": "1f7c0e5a",
      "metadata": {
        "id": "1f7c0e5a",
        "outputId": "f8d92430-59c1-40e7-90bf-13887f76d8a1"
      },
      "outputs": [
        {
          "name": "stdout",
          "output_type": "stream",
          "text": [
            "object\n"
          ]
        }
      ],
      "source": [
        "print(df['filtered_text'].dtype)"
      ]
    },
    {
      "cell_type": "code",
      "execution_count": null,
      "id": "ef6e4f8a",
      "metadata": {
        "id": "ef6e4f8a",
        "outputId": "3068905c-b7c0-41e7-9826-18595d37399e"
      },
      "outputs": [
        {
          "name": "stdout",
          "output_type": "stream",
          "text": [
            "         target          id                          date      flag  \\\n",
            "3997          0  1468720797  Tue Apr 07 03:21:48 PDT 2009  NO_QUERY   \n",
            "4233          0  1468771833  Tue Apr 07 03:39:06 PDT 2009  NO_QUERY   \n",
            "5284          0  1469038754  Tue Apr 07 04:57:00 PDT 2009  NO_QUERY   \n",
            "18950         0  1556733475  Sun Apr 19 00:05:23 PDT 2009  NO_QUERY   \n",
            "19062         0  1556760319  Sun Apr 19 00:12:56 PDT 2009  NO_QUERY   \n",
            "...         ...         ...                           ...       ...   \n",
            "1592715       1  2191790700  Tue Jun 16 05:58:39 PDT 2009  NO_QUERY   \n",
            "1595775       1  2192466848  Tue Jun 16 07:04:51 PDT 2009  NO_QUERY   \n",
            "1596318       1  2192628378  Tue Jun 16 07:19:07 PDT 2009  NO_QUERY   \n",
            "1598921       1  2193305981  Tue Jun 16 08:16:39 PDT 2009  NO_QUERY   \n",
            "1599811       1  2193550913  Tue Jun 16 08:36:39 PDT 2009  NO_QUERY   \n",
            "\n",
            "                   user                                text preprocessed_text  \\\n",
            "3997         mohdnajwan                         what to do                      \n",
            "4233         goldieloxx                               just                      \n",
            "5284           warisara  and here  http://twitpic.com/2yaxf                     \n",
            "18950    LouiseRedknapp                           up again                      \n",
            "19062           krh1130                     I've been here                      \n",
            "...                 ...                                 ...               ...   \n",
            "1592715        halleyji                 so this it .. then                      \n",
            "1595775    ValeriaJsmPr                          here I am                      \n",
            "1596318      aptextclan                        is ON!!!!!!                      \n",
            "1598921      Jsstar0273                           If only?                      \n",
            "1599811       handriani                     to be with you                      \n",
            "\n",
            "        filtered_text  \n",
            "3997                   \n",
            "4233                   \n",
            "5284                   \n",
            "18950                  \n",
            "19062                  \n",
            "...               ...  \n",
            "1592715                \n",
            "1595775                \n",
            "1596318                \n",
            "1598921                \n",
            "1599811                \n",
            "\n",
            "[588 rows x 8 columns]\n"
          ]
        }
      ],
      "source": [
        "print(df[df['filtered_text'] == ''])"
      ]
    },
    {
      "cell_type": "code",
      "execution_count": null,
      "id": "55343c2c",
      "metadata": {
        "id": "55343c2c"
      },
      "outputs": [],
      "source": [
        "df['filtered_text'] = df['filtered_text'].replace('', 'empty_string_placeholder')"
      ]
    },
    {
      "cell_type": "code",
      "execution_count": null,
      "id": "663a9cab",
      "metadata": {
        "id": "663a9cab"
      },
      "outputs": [],
      "source": [
        "df[\"filtered_text\"] = df[\"filtered_text\"].astype(\"str\")"
      ]
    },
    {
      "cell_type": "code",
      "execution_count": null,
      "id": "3cd8bf80",
      "metadata": {
        "id": "3cd8bf80",
        "outputId": "33c584e5-0482-4724-be84-0a6b66c60de8"
      },
      "outputs": [
        {
          "data": {
            "text/plain": [
              "0          switchfoot awww bummer shoulda get david carr ...\n",
              "1          upset update facebook texting might cry result...\n",
              "2          kenichan dive many time ball manage save rest ...\n",
              "3                            whole body feel itchy like fire\n",
              "4                           nationwideclass behaving mad see\n",
              "                                 ...                        \n",
              "1599995                        woke school best feeling ever\n",
              "1599996              thewdb com cool hear old walt interview\n",
              "1599997                       ready mojo makeover ask detail\n",
              "1599998    happy th birthday boo alll time tupac amaru sh...\n",
              "1599999    happy charitytuesday thenspcc sparkscharity sp...\n",
              "Name: filtered_text, Length: 1600000, dtype: object"
            ]
          },
          "execution_count": 40,
          "metadata": {},
          "output_type": "execute_result"
        }
      ],
      "source": [
        "df[\"filtered_text\"]"
      ]
    },
    {
      "cell_type": "code",
      "execution_count": null,
      "id": "ac557df2",
      "metadata": {
        "id": "ac557df2",
        "outputId": "9c0f8d39-f432-45ef-db27-3146df2a35dc"
      },
      "outputs": [
        {
          "data": {
            "text/plain": [
              "0          0\n",
              "1          0\n",
              "2          0\n",
              "3          0\n",
              "4          0\n",
              "          ..\n",
              "1599995    1\n",
              "1599996    1\n",
              "1599997    1\n",
              "1599998    1\n",
              "1599999    1\n",
              "Name: target, Length: 1600000, dtype: int64"
            ]
          },
          "execution_count": 41,
          "metadata": {},
          "output_type": "execute_result"
        }
      ],
      "source": [
        "df[\"target\"]"
      ]
    },
    {
      "cell_type": "code",
      "execution_count": null,
      "id": "a84c69dd",
      "metadata": {
        "id": "a84c69dd"
      },
      "outputs": [],
      "source": [
        "X = df[\"filtered_text\"].values\n",
        "Y = df[\"target\"].values"
      ]
    },
    {
      "cell_type": "code",
      "execution_count": null,
      "id": "a573853b",
      "metadata": {
        "id": "a573853b",
        "outputId": "e8b37abe-65cc-4425-fe4f-c0399334613a"
      },
      "outputs": [
        {
          "name": "stdout",
          "output_type": "stream",
          "text": [
            "['switchfoot awww bummer shoulda get david carr third day'\n",
            " 'upset update facebook texting might cry result school today also blah'\n",
            " 'kenichan dive many time ball manage save rest go bound' ...\n",
            " 'ready mojo makeover ask detail'\n",
            " 'happy th birthday boo alll time tupac amaru shakur'\n",
            " 'happy charitytuesday thenspcc sparkscharity speakinguph h']\n"
          ]
        }
      ],
      "source": [
        "print(X)"
      ]
    },
    {
      "cell_type": "code",
      "execution_count": null,
      "id": "848e5bcc",
      "metadata": {
        "id": "848e5bcc",
        "outputId": "d36670ae-df3f-41e8-f945-d4258e06ce83"
      },
      "outputs": [
        {
          "name": "stdout",
          "output_type": "stream",
          "text": [
            "[0 0 0 ... 1 1 1]\n"
          ]
        }
      ],
      "source": [
        "print(Y)"
      ]
    },
    {
      "cell_type": "markdown",
      "id": "ae957c61",
      "metadata": {
        "id": "ae957c61"
      },
      "source": [
        "## **splitting the data into train and test**"
      ]
    },
    {
      "cell_type": "code",
      "execution_count": null,
      "id": "ae2a3713",
      "metadata": {
        "id": "ae2a3713"
      },
      "outputs": [],
      "source": [
        "from sklearn.model_selection import train_test_split\n",
        "x_train , x_test , y_train , y_test = train_test_split(X , Y , test_size = 0.2 , random_state = 1 , stratify = Y)\n",
        "# stratify = Y to set equal proportion in splitting"
      ]
    },
    {
      "cell_type": "code",
      "execution_count": null,
      "id": "ed85c1fb",
      "metadata": {
        "id": "ed85c1fb",
        "outputId": "ef62ae1c-03a8-4d0a-f901-145f93e775e1"
      },
      "outputs": [
        {
          "name": "stdout",
          "output_type": "stream",
          "text": [
            "(1600000,) (1280000,) (320000,)\n"
          ]
        }
      ],
      "source": [
        "print(X.shape , x_train.shape , x_test.shape)"
      ]
    },
    {
      "cell_type": "code",
      "execution_count": null,
      "id": "695fb36b",
      "metadata": {
        "id": "695fb36b",
        "outputId": "d223d1d4-24b2-4e2a-f4f4-8b292a1c7f47"
      },
      "outputs": [
        {
          "name": "stdout",
          "output_type": "stream",
          "text": [
            "['rise shin lol min later plan rush door time'\n",
            " 'nd interview today look promising' 'emilyalbracht feel pain' ...\n",
            " 'bookwitter welcome change mind though let know'\n",
            " 'howcoza bet bring backup' 'window linux box instal bsd apple ipod yeah']\n"
          ]
        }
      ],
      "source": [
        "print(x_train)"
      ]
    },
    {
      "cell_type": "code",
      "execution_count": null,
      "id": "74152194",
      "metadata": {
        "id": "74152194",
        "outputId": "97631d72-cc3b-482a-8333-cde577581b95"
      },
      "outputs": [
        {
          "name": "stdout",
          "output_type": "stream",
          "text": [
            "['would like even little bit time work lay work'\n",
            " 'look forward keep touch naomi long time since chat'\n",
            " 'nbatvandre germany nba airtime get international lp watch game sure' ...\n",
            " 'sweet pea darn think journey like really'\n",
            " 'oh calvin harris call daft bastard feel cool new claim fame'\n",
            " 'go family meal hour cheer grandpa']\n"
          ]
        }
      ],
      "source": [
        "print(x_test)"
      ]
    },
    {
      "cell_type": "code",
      "execution_count": null,
      "id": "75af0f55",
      "metadata": {
        "id": "75af0f55"
      },
      "outputs": [],
      "source": [
        "# converting textual data into numerical data because model will understand only numerical values\n",
        "from sklearn.feature_extraction.text import TfidfVectorizer\n",
        "\n",
        "vectorizer = TfidfVectorizer()\n",
        "\n",
        "x_train = vectorizer.fit_transform(x_train)\n",
        "x_test = vectorizer.transform(x_test)"
      ]
    },
    {
      "cell_type": "code",
      "execution_count": null,
      "id": "54397589",
      "metadata": {
        "id": "54397589",
        "outputId": "240394f1-5a5a-4a22-b087-7e1635e6b099"
      },
      "outputs": [
        {
          "name": "stdout",
          "output_type": "stream",
          "text": [
            "  (0, 421112)\t0.20391184645508606\n",
            "  (0, 111869)\t0.37207345484230175\n",
            "  (0, 357295)\t0.4147357354057043\n",
            "  (0, 326607)\t0.30664702212081807\n",
            "  (0, 235327)\t0.29259372135705985\n",
            "  (0, 274678)\t0.3402626393408656\n",
            "  (0, 247162)\t0.20984795075497076\n",
            "  (0, 374746)\t0.3962306174717831\n",
            "  (0, 350895)\t0.38925385356088527\n",
            "  (1, 333845)\t0.6675834365650917\n",
            "  (1, 247959)\t0.2884790557402888\n",
            "  (1, 423500)\t0.2543725754111578\n",
            "  (1, 188817)\t0.46238860115941866\n",
            "  (1, 294666)\t0.4388662256538595\n",
            "  (2, 315232)\t0.42078858023901866\n",
            "  (2, 135871)\t0.28224859702045846\n",
            "  (2, 123689)\t0.8621326465344029\n",
            "  (3, 15764)\t0.5380069486962884\n",
            "  (3, 252600)\t0.2959629086063574\n",
            "  (3, 138054)\t0.20568758127704762\n",
            "  (3, 172812)\t0.36429163587977004\n",
            "  (3, 15741)\t0.18165672914425915\n",
            "  (3, 131651)\t0.3743995056775965\n",
            "  (3, 156023)\t0.13139492296939503\n",
            "  (3, 386431)\t0.29370620136198583\n",
            "  :\t:\n",
            "  (1279995, 46830)\t0.4957654835960133\n",
            "  (1279995, 174570)\t0.3901145320213933\n",
            "  (1279995, 423767)\t0.3747208410791963\n",
            "  (1279995, 15741)\t0.24606876315859158\n",
            "  (1279996, 169435)\t0.9170009131402407\n",
            "  (1279996, 310030)\t0.39888510288047196\n",
            "  (1279997, 50289)\t0.7106684653470571\n",
            "  (1279997, 274741)\t0.3319804173651966\n",
            "  (1279997, 419226)\t0.2572840125799807\n",
            "  (1279997, 69519)\t0.3157333690004786\n",
            "  (1279997, 451218)\t0.31503123705409514\n",
            "  (1279997, 227867)\t0.21543362038867872\n",
            "  (1279997, 239983)\t0.27055569907882876\n",
            "  (1279998, 177424)\t0.7259464270451758\n",
            "  (1279998, 32791)\t0.47434334975959463\n",
            "  (1279998, 54802)\t0.3322176699797417\n",
            "  (1279998, 41559)\t0.3709873196652704\n",
            "  (1279999, 57082)\t0.5372071367243219\n",
            "  (1279999, 243663)\t0.39278014609362705\n",
            "  (1279999, 455682)\t0.30816041764697855\n",
            "  (1279999, 188254)\t0.35849863985235636\n",
            "  (1279999, 189627)\t0.2982389747335432\n",
            "  (1279999, 22358)\t0.31318462774618977\n",
            "  (1279999, 51683)\t0.312860343571446\n",
            "  (1279999, 464856)\t0.22076104642915878\n"
          ]
        }
      ],
      "source": [
        "print(x_train)"
      ]
    },
    {
      "cell_type": "code",
      "execution_count": null,
      "id": "4a38905c",
      "metadata": {
        "id": "4a38905c",
        "outputId": "4764dd21-9d73-4779-c05b-001524033745"
      },
      "outputs": [
        {
          "name": "stdout",
          "output_type": "stream",
          "text": [
            "  (0, 458946)\t0.3093527203769917\n",
            "  (0, 458397)\t0.4803045152674296\n",
            "  (0, 421112)\t0.2564368653577736\n",
            "  (0, 244683)\t0.3372151048703212\n",
            "  (0, 241999)\t0.24316310660808227\n",
            "  (0, 236895)\t0.44460745107157024\n",
            "  (0, 129745)\t0.3231931416618199\n",
            "  (0, 45014)\t0.3645225443795792\n",
            "  (1, 426340)\t0.36788389018461143\n",
            "  (1, 421112)\t0.20865269648040885\n",
            "  (1, 379054)\t0.3028776028389286\n",
            "  (1, 292597)\t0.5440996678438579\n",
            "  (1, 247959)\t0.2333246354783554\n",
            "  (1, 247722)\t0.27452604592934865\n",
            "  (1, 220375)\t0.2781427483645791\n",
            "  (1, 142713)\t0.3155126128168358\n",
            "  (1, 70687)\t0.3558506316080113\n",
            "  (2, 449138)\t0.16540654709011388\n",
            "  (2, 401723)\t0.2010606027490293\n",
            "  (2, 294454)\t0.4841189819199358\n",
            "  (2, 294439)\t0.3267497609060592\n",
            "  (2, 250649)\t0.37551308145969076\n",
            "  (2, 188655)\t0.334364481243838\n",
            "  (2, 152265)\t0.11499894561655925\n",
            "  (2, 152105)\t0.2878254360449475\n",
            "  :\t:\n",
            "  (319996, 182077)\t0.6088333839333704\n",
            "  (319997, 418307)\t0.23616173544098823\n",
            "  (319997, 403337)\t0.3461564356422749\n",
            "  (319997, 343358)\t0.24674768833305932\n",
            "  (319997, 319622)\t0.5349611652671379\n",
            "  (319997, 241999)\t0.21850756447361935\n",
            "  (319997, 210606)\t0.4862067951313774\n",
            "  (319997, 96199)\t0.4395371239965237\n",
            "  (319998, 307532)\t0.17305071421719975\n",
            "  (319998, 297006)\t0.17171624900454557\n",
            "  (319998, 166693)\t0.3834908722549277\n",
            "  (319998, 135871)\t0.16812370441262695\n",
            "  (319998, 133640)\t0.3659390243852231\n",
            "  (319998, 92732)\t0.3987612052283189\n",
            "  (319998, 84637)\t0.20995840777420446\n",
            "  (319998, 78055)\t0.3460613433415582\n",
            "  (319998, 61931)\t0.38724682470695937\n",
            "  (319998, 61621)\t0.2083828609682529\n",
            "  (319998, 35689)\t0.3392488413302637\n",
            "  (319999, 266368)\t0.49993134180219423\n",
            "  (319999, 177143)\t0.3164285204625953\n",
            "  (319999, 159154)\t0.5358741782161032\n",
            "  (319999, 156023)\t0.19693363829922375\n",
            "  (319999, 133682)\t0.37149590476085387\n",
            "  (319999, 71303)\t0.43126377646989084\n"
          ]
        }
      ],
      "source": [
        "print(x_test)"
      ]
    },
    {
      "cell_type": "markdown",
      "id": "43945c93",
      "metadata": {
        "id": "43945c93"
      },
      "source": [
        "## **Training the machine learning model**\n",
        "\n",
        ">**Logistic Regression**"
      ]
    },
    {
      "cell_type": "code",
      "execution_count": null,
      "id": "c4e9970c",
      "metadata": {
        "id": "c4e9970c"
      },
      "outputs": [],
      "source": [
        "from sklearn.linear_model import LogisticRegression\n",
        "\n",
        "# Train a Multinomial Naive Bayes classifier\n",
        "classifier = LogisticRegression(max_iter = 1000)\n",
        "classifier.fit(x_train, y_train)\n",
        "y_pred = classifier.predict(x_test)"
      ]
    },
    {
      "cell_type": "code",
      "execution_count": null,
      "id": "a8434f1d",
      "metadata": {
        "id": "a8434f1d"
      },
      "outputs": [],
      "source": []
    },
    {
      "cell_type": "code",
      "execution_count": null,
      "id": "ee699e40",
      "metadata": {
        "id": "ee699e40",
        "outputId": "e6833b6a-137e-4ff4-8fd7-436198bbd964"
      },
      "outputs": [
        {
          "name": "stdout",
          "output_type": "stream",
          "text": [
            "Accuracy: 0.78\n",
            "Confusion Matrix:\n",
            "[[121509  38491]\n",
            " [ 32652 127348]]\n",
            "Classification Report:\n",
            "              precision    recall  f1-score   support\n",
            "\n",
            "           0       0.79      0.76      0.77    160000\n",
            "           1       0.77      0.80      0.78    160000\n",
            "\n",
            "    accuracy                           0.78    320000\n",
            "   macro avg       0.78      0.78      0.78    320000\n",
            "weighted avg       0.78      0.78      0.78    320000\n",
            "\n"
          ]
        }
      ],
      "source": [
        "from sklearn.metrics import accuracy_score, classification_report, confusion_matrix\n",
        "\n",
        "# Evaluate the performance of the classifier\n",
        "accuracy = accuracy_score(y_test, y_pred)\n",
        "conf_matrix = confusion_matrix(y_test, y_pred)\n",
        "classification_rep = classification_report(y_test, y_pred)\n",
        "\n",
        "print(f\"Accuracy: {accuracy:.2f}\")\n",
        "print(\"Confusion Matrix:\")\n",
        "print(conf_matrix)\n",
        "print(\"Classification Report:\")\n",
        "print(classification_rep)"
      ]
    },
    {
      "cell_type": "code",
      "execution_count": null,
      "id": "712a8f2e",
      "metadata": {
        "id": "712a8f2e",
        "outputId": "b24ce9f8-b460-440a-fac7-9c226fb11b08"
      },
      "outputs": [
        {
          "name": "stdout",
          "output_type": "stream",
          "text": [
            "Training accuracy score:  0.81093125\n"
          ]
        }
      ],
      "source": [
        "x_train_pred = classifier.predict(x_train)\n",
        "print(\"Training accuracy score: \",accuracy_score(y_train,x_train_pred))"
      ]
    },
    {
      "cell_type": "code",
      "execution_count": null,
      "id": "701475b8",
      "metadata": {
        "id": "701475b8",
        "outputId": "a5c04305-9e08-4ac6-f021-78e17541a317"
      },
      "outputs": [
        {
          "data": {
            "image/png": "[encoded data removed]",
            "text/plain": [
              "<Figure size 432x288 with 1 Axes>"
            ]
          },
          "metadata": {
            "needs_background": "light"
          },
          "output_type": "display_data"
        }
      ],
      "source": [
        "from sklearn.metrics import roc_curve , auc\n",
        "import matplotlib.pyplot as plt\n",
        "\n",
        "# ROC curve and AUC\n",
        "fpr, tpr , thresholds = roc_curve(y_test,y_pred)\n",
        "roc_auc = auc(fpr,tpr)\n",
        "plt.plot(fpr, tpr, label='ROC curve (area = %0.2f)' % roc_auc)\n",
        "plt.plot([0, 1], [0, 1], 'k--')\n",
        "plt.xlim([0.0, 1.0])\n",
        "plt.ylim([0.0, 1.05])\n",
        "plt.xlabel('False Positive Rate')\n",
        "plt.ylabel('True Positive Rate')\n",
        "plt.title('Receiver operating characteristic')\n",
        "plt.legend(loc=\"lower right\")\n",
        "plt.show()"
      ]
    },
    {
      "cell_type": "markdown",
      "id": "32231b96",
      "metadata": {
        "id": "32231b96"
      },
      "source": [
        "## **Using model for future prediction**"
      ]
    },
    {
      "cell_type": "code",
      "execution_count": null,
      "id": "def5f8ab",
      "metadata": {
        "id": "def5f8ab",
        "outputId": "20e9ded8-b502-432f-8622-c4b1f6470754"
      },
      "outputs": [
        {
          "name": "stdout",
          "output_type": "stream",
          "text": [
            "Negative tweet\n"
          ]
        }
      ],
      "source": [
        "\n",
        "x_new = [\"The trip so bad such a worst experience\"]\n",
        "\n",
        "\n",
        "x_new_transformed = vectorizer.transform(x_new)\n",
        "\n",
        "\n",
        "proba = classifier.predict_proba(x_new_transformed)\n",
        "\n",
        "\n",
        "if proba[0, 0] > proba[0, 1]:\n",
        "    print(\"Negative tweet\")\n",
        "else:\n",
        "    print(\"Positive tweet\")"
      ]
    },
    {
      "cell_type": "code",
      "execution_count": null,
      "id": "57e1dca6",
      "metadata": {
        "id": "57e1dca6"
      },
      "outputs": [],
      "source": [
        "from sklearn.svm import SVC\n",
        "\n",
        "model = SVC()\n",
        "\n",
        "model.fit(x_train,y_train)\n",
        "\n",
        "y_pred = model.predict(x_test)"
      ]
    },
    {
      "cell_type": "code",
      "execution_count": null,
      "id": "aaa555b1",
      "metadata": {
        "id": "aaa555b1",
        "outputId": "baceeae1-d25a-4ece-e1c8-5c2eb4849dd7"
      },
      "outputs": [
        {
          "data": {
            "text/plain": [
              "'C:\\\\Users\\\\GANESH\\\\Mongodb practice'"
            ]
          },
          "execution_count": 1,
          "metadata": {},
          "output_type": "execute_result"
        }
      ],
      "source": [
        "pwd"
      ]
    },
    {
      "cell_type": "code",
      "execution_count": null,
      "id": "85d82601",
      "metadata": {
        "id": "85d82601"
      },
      "outputs": [],
      "source": []
    },
    {
      "cell_type": "code",
      "execution_count": null,
      "id": "96d8a60f",
      "metadata": {
        "id": "96d8a60f"
      },
      "outputs": [],
      "source": []
    },
    {
      "cell_type": "code",
      "execution_count": null,
      "id": "2220d6cf",
      "metadata": {
        "id": "2220d6cf"
      },
      "outputs": [],
      "source": []
    },
    {
      "cell_type": "code",
      "execution_count": null,
      "id": "0285b7f5",
      "metadata": {
        "id": "0285b7f5"
      },
      "outputs": [],
      "source": []
    }
  ],
  "metadata": {
    "kernelspec": {
      "display_name": "Python 3 (ipykernel)",
      "language": "python",
      "name": "python3"
    },
    "language_info": {
      "codemirror_mode": {
        "name": "ipython",
        "version": 3
      },
      "file_extension": ".py",
      "mimetype": "text/x-python",
      "name": "python",
      "nbconvert_exporter": "python",
      "pygments_lexer": "ipython3",
      "version": "3.9.12"
    },
    "colab": {
      "provenance": [],
      "include_colab_link": true
    }
  },
  "nbformat": 4,
  "nbformat_minor": 5
}